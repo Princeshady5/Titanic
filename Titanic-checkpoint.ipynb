{
 "cells": [
  {
   "cell_type": "code",
   "execution_count": 3,
   "metadata": {},
   "outputs": [],
   "source": [
    "import numpy as np\n",
    "import pandas as pd"
   ]
  },
  {
   "cell_type": "code",
   "execution_count": 13,
   "metadata": {},
   "outputs": [
    {
     "data": {
      "text/html": [
       "<div>\n",
       "<style scoped>\n",
       "    .dataframe tbody tr th:only-of-type {\n",
       "        vertical-align: middle;\n",
       "    }\n",
       "\n",
       "    .dataframe tbody tr th {\n",
       "        vertical-align: top;\n",
       "    }\n",
       "\n",
       "    .dataframe thead th {\n",
       "        text-align: right;\n",
       "    }\n",
       "</style>\n",
       "<table border=\"1\" class=\"dataframe\">\n",
       "  <thead>\n",
       "    <tr style=\"text-align: right;\">\n",
       "      <th></th>\n",
       "      <th>PassengerId</th>\n",
       "      <th>Survived</th>\n",
       "      <th>Pclass</th>\n",
       "      <th>Name</th>\n",
       "      <th>Sex</th>\n",
       "      <th>Age</th>\n",
       "      <th>SibSp</th>\n",
       "      <th>Parch</th>\n",
       "      <th>Ticket</th>\n",
       "      <th>Fare</th>\n",
       "      <th>Cabin</th>\n",
       "      <th>Embarked</th>\n",
       "    </tr>\n",
       "  </thead>\n",
       "  <tbody>\n",
       "    <tr>\n",
       "      <td>0</td>\n",
       "      <td>1</td>\n",
       "      <td>0</td>\n",
       "      <td>3</td>\n",
       "      <td>Braund, Mr. Owen Harris</td>\n",
       "      <td>male</td>\n",
       "      <td>22.0</td>\n",
       "      <td>1</td>\n",
       "      <td>0</td>\n",
       "      <td>A/5 21171</td>\n",
       "      <td>7.2500</td>\n",
       "      <td>NaN</td>\n",
       "      <td>S</td>\n",
       "    </tr>\n",
       "    <tr>\n",
       "      <td>1</td>\n",
       "      <td>2</td>\n",
       "      <td>1</td>\n",
       "      <td>1</td>\n",
       "      <td>Cumings, Mrs. John Bradley (Florence Briggs Th...</td>\n",
       "      <td>female</td>\n",
       "      <td>38.0</td>\n",
       "      <td>1</td>\n",
       "      <td>0</td>\n",
       "      <td>PC 17599</td>\n",
       "      <td>71.2833</td>\n",
       "      <td>C85</td>\n",
       "      <td>C</td>\n",
       "    </tr>\n",
       "    <tr>\n",
       "      <td>2</td>\n",
       "      <td>3</td>\n",
       "      <td>1</td>\n",
       "      <td>3</td>\n",
       "      <td>Heikkinen, Miss. Laina</td>\n",
       "      <td>female</td>\n",
       "      <td>26.0</td>\n",
       "      <td>0</td>\n",
       "      <td>0</td>\n",
       "      <td>STON/O2. 3101282</td>\n",
       "      <td>7.9250</td>\n",
       "      <td>NaN</td>\n",
       "      <td>S</td>\n",
       "    </tr>\n",
       "    <tr>\n",
       "      <td>3</td>\n",
       "      <td>4</td>\n",
       "      <td>1</td>\n",
       "      <td>1</td>\n",
       "      <td>Futrelle, Mrs. Jacques Heath (Lily May Peel)</td>\n",
       "      <td>female</td>\n",
       "      <td>35.0</td>\n",
       "      <td>1</td>\n",
       "      <td>0</td>\n",
       "      <td>113803</td>\n",
       "      <td>53.1000</td>\n",
       "      <td>C123</td>\n",
       "      <td>S</td>\n",
       "    </tr>\n",
       "    <tr>\n",
       "      <td>4</td>\n",
       "      <td>5</td>\n",
       "      <td>0</td>\n",
       "      <td>3</td>\n",
       "      <td>Allen, Mr. William Henry</td>\n",
       "      <td>male</td>\n",
       "      <td>35.0</td>\n",
       "      <td>0</td>\n",
       "      <td>0</td>\n",
       "      <td>373450</td>\n",
       "      <td>8.0500</td>\n",
       "      <td>NaN</td>\n",
       "      <td>S</td>\n",
       "    </tr>\n",
       "  </tbody>\n",
       "</table>\n",
       "</div>"
      ],
      "text/plain": [
       "   PassengerId  Survived  Pclass  \\\n",
       "0            1         0       3   \n",
       "1            2         1       1   \n",
       "2            3         1       3   \n",
       "3            4         1       1   \n",
       "4            5         0       3   \n",
       "\n",
       "                                                Name     Sex   Age  SibSp  \\\n",
       "0                            Braund, Mr. Owen Harris    male  22.0      1   \n",
       "1  Cumings, Mrs. John Bradley (Florence Briggs Th...  female  38.0      1   \n",
       "2                             Heikkinen, Miss. Laina  female  26.0      0   \n",
       "3       Futrelle, Mrs. Jacques Heath (Lily May Peel)  female  35.0      1   \n",
       "4                           Allen, Mr. William Henry    male  35.0      0   \n",
       "\n",
       "   Parch            Ticket     Fare Cabin Embarked  \n",
       "0      0         A/5 21171   7.2500   NaN        S  \n",
       "1      0          PC 17599  71.2833   C85        C  \n",
       "2      0  STON/O2. 3101282   7.9250   NaN        S  \n",
       "3      0            113803  53.1000  C123        S  \n",
       "4      0            373450   8.0500   NaN        S  "
      ]
     },
     "execution_count": 13,
     "metadata": {},
     "output_type": "execute_result"
    }
   ],
   "source": [
    "titanic = pd.read_csv(\"train.csv\")\n",
    "titanic.head()"
   ]
  },
  {
   "cell_type": "code",
   "execution_count": 22,
   "metadata": {},
   "outputs": [
    {
     "name": "stdout",
     "output_type": "stream",
     "text": [
      "   Pclass  Sex   Age  SibSp  Parch\n",
      "0       3    0  22.0      1      0\n",
      "1       1    1  38.0      1      0\n",
      "2       3    1  26.0      0      0\n",
      "3       1    1  35.0      1      0\n",
      "4       3    0  35.0      0      0\n"
     ]
    }
   ],
   "source": [
    "x = titanic.drop(columns ={\"Survived\",\"Name\", \"Cabin\",\"Ticket\",\"Fare\",\n",
    "                    \"Embarked\", \"PassengerId\"})\n",
    "x[\"Sex\"] = x[\"Sex\"].apply({\"male\":0, \"female\": 1 }.get)\n",
    "print (x.head())\n"
   ]
  },
  {
   "cell_type": "code",
   "execution_count": 24,
   "metadata": {},
   "outputs": [
    {
     "name": "stdout",
     "output_type": "stream",
     "text": [
      "0    0\n",
      "1    1\n",
      "2    1\n",
      "3    1\n",
      "4    0\n",
      "Name: Survived, dtype: int64\n"
     ]
    }
   ],
   "source": [
    "y = titanic.Survived\n",
    "print (y.head())\n"
   ]
  },
  {
   "cell_type": "code",
   "execution_count": 34,
   "metadata": {},
   "outputs": [],
   "source": [
    "import impyute\n",
    "from impyute.imputation.cs import mice"
   ]
  },
  {
   "cell_type": "code",
   "execution_count": 38,
   "metadata": {},
   "outputs": [
    {
     "name": "stdout",
     "output_type": "stream",
     "text": [
      "[[ 3.          0.         22.          1.          0.        ]\n",
      " [ 1.          1.         38.          1.          0.        ]\n",
      " [ 3.          1.         26.          0.          0.        ]\n",
      " ...\n",
      " [ 3.          1.         19.30630589  1.          2.        ]\n",
      " [ 1.          0.         26.          0.          0.        ]\n",
      " [ 3.          0.         32.          0.          0.        ]]\n"
     ]
    }
   ],
   "source": [
    "imputed_x = mice(x.values)\n",
    "print (imputed_x)"
   ]
  },
  {
   "cell_type": "code",
   "execution_count": 63,
   "metadata": {},
   "outputs": [
    {
     "name": "stdout",
     "output_type": "stream",
     "text": [
      "     Sex  Pclass      Parch  Age  SibSp\n",
      "0    3.0     0.0  22.000000  1.0    0.0\n",
      "1    1.0     1.0  38.000000  1.0    0.0\n",
      "2    3.0     1.0  26.000000  0.0    0.0\n",
      "3    1.0     1.0  35.000000  1.0    0.0\n",
      "4    3.0     0.0  35.000000  0.0    0.0\n",
      "..   ...     ...        ...  ...    ...\n",
      "886  2.0     0.0  27.000000  0.0    0.0\n",
      "887  1.0     1.0  19.000000  0.0    0.0\n",
      "888  3.0     1.0  19.306306  1.0    2.0\n",
      "889  1.0     0.0  26.000000  0.0    0.0\n",
      "890  3.0     0.0  32.000000  0.0    0.0\n",
      "\n",
      "[891 rows x 5 columns]\n"
     ]
    }
   ],
   "source": [
    "df_x = pd.DataFrame (imputed_x, columns ={\"Pclass\",  \"Sex\" ,  \"Age\" , \"SibSp\",  \"Parch\"} )\n",
    "print (df)"
   ]
  },
  {
   "cell_type": "code",
   "execution_count": 45,
   "metadata": {},
   "outputs": [
    {
     "data": {
      "text/plain": [
       "Sex       0\n",
       "Pclass    0\n",
       "Parch     0\n",
       "Age       0\n",
       "SibSp     0\n",
       "dtype: int64"
      ]
     },
     "execution_count": 45,
     "metadata": {},
     "output_type": "execute_result"
    }
   ],
   "source": [
    "df.isna().sum()"
   ]
  },
  {
   "cell_type": "code",
   "execution_count": 48,
   "metadata": {},
   "outputs": [],
   "source": [
    "import sklearn\n",
    "from sklearn.neighbors import KNeighborsClassifier\n",
    "from sklearn.model_selection import GridSearchCV\n",
    "from sklearn.metrics import make_scorer"
   ]
  },
  {
   "cell_type": "code",
   "execution_count": 50,
   "metadata": {},
   "outputs": [],
   "source": [
    "knn = KNeighborsClassifier()\n",
    "k_range = range(1,31)\n",
    "param_grid = dict(n_neighbors = k_range)\n",
    "grid = GridSearchCV(knn, param_grid, cv= 10, scoring = \"accuracy\")\n",
    "\n"
   ]
  },
  {
   "cell_type": "code",
   "execution_count": 64,
   "metadata": {},
   "outputs": [
    {
     "data": {
      "text/plain": [
       "GridSearchCV(cv=10, error_score='raise-deprecating',\n",
       "             estimator=KNeighborsClassifier(algorithm='auto', leaf_size=30,\n",
       "                                            metric='minkowski',\n",
       "                                            metric_params=None, n_jobs=None,\n",
       "                                            n_neighbors=5, p=2,\n",
       "                                            weights='uniform'),\n",
       "             iid='warn', n_jobs=None, param_grid={'n_neighbors': range(1, 31)},\n",
       "             pre_dispatch='2*n_jobs', refit=True, return_train_score=False,\n",
       "             scoring='accuracy', verbose=0)"
      ]
     },
     "execution_count": 64,
     "metadata": {},
     "output_type": "execute_result"
    }
   ],
   "source": [
    "grid.fit(df_x,y)\n"
   ]
  },
  {
   "cell_type": "code",
   "execution_count": 66,
   "metadata": {},
   "outputs": [
    {
     "data": {
      "text/plain": [
       "{'mean_fit_time': array([0.0184299 , 0.00289555, 0.00249407, 0.00259271, 0.00294321,\n",
       "        0.00299437, 0.00289507, 0.00269353, 0.0025975 , 0.00289202,\n",
       "        0.00299344, 0.00279593, 0.00279152, 0.00248868, 0.00229087,\n",
       "        0.00248909, 0.00378928, 0.00329049, 0.0024935 , 0.00279081,\n",
       "        0.00279067, 0.00277643, 0.00249572, 0.0026921 , 0.00249434,\n",
       "        0.00279236, 0.00259423, 0.00299075, 0.00249672, 0.00269229]),\n",
       " 'std_fit_time': array([0.04797084, 0.00069912, 0.00049851, 0.00048859, 0.00078466,\n",
       "        0.00063138, 0.00030048, 0.0004574 , 0.00049002, 0.0006984 ,\n",
       "        0.00089194, 0.00087058, 0.00074416, 0.00049209, 0.00045835,\n",
       "        0.00049619, 0.00139551, 0.00089773, 0.00049846, 0.00059829,\n",
       "        0.00039854, 0.00073309, 0.00050203, 0.00045679, 0.00049696,\n",
       "        0.00059736, 0.00066365, 0.00126041, 0.00049612, 0.00077873]),\n",
       " 'mean_score_time': array([0.00517759, 0.0045841 , 0.00544665, 0.00609157, 0.00528555,\n",
       "        0.00511699, 0.0050374 , 0.00513999, 0.00488267, 0.00588415,\n",
       "        0.00538421, 0.00508256, 0.00647335, 0.00509412, 0.00498617,\n",
       "        0.00479019, 0.00728099, 0.00578496, 0.00718057, 0.00578432,\n",
       "        0.0096185 , 0.00528595, 0.00534391, 0.00528486, 0.00533874,\n",
       "        0.0055361 , 0.00548403, 0.00578532, 0.00578151, 0.00558841]),\n",
       " 'std_score_time': array([0.00074058, 0.00066902, 0.00308028, 0.00334797, 0.0004576 ,\n",
       "        0.00058069, 0.00064665, 0.00062869, 0.00053511, 0.00129593,\n",
       "        0.00079942, 0.00104418, 0.00325626, 0.00053362, 0.0004524 ,\n",
       "        0.00075493, 0.00218822, 0.00132246, 0.00367265, 0.00074586,\n",
       "        0.00660838, 0.00063385, 0.00063887, 0.00063791, 0.00070611,\n",
       "        0.00047014, 0.00049985, 0.00059827, 0.00059719, 0.00048466]),\n",
       " 'param_n_neighbors': masked_array(data=[1, 2, 3, 4, 5, 6, 7, 8, 9, 10, 11, 12, 13, 14, 15, 16,\n",
       "                    17, 18, 19, 20, 21, 22, 23, 24, 25, 26, 27, 28, 29, 30],\n",
       "              mask=[False, False, False, False, False, False, False, False,\n",
       "                    False, False, False, False, False, False, False, False,\n",
       "                    False, False, False, False, False, False, False, False,\n",
       "                    False, False, False, False, False, False],\n",
       "        fill_value='?',\n",
       "             dtype=object),\n",
       " 'params': [{'n_neighbors': 1},\n",
       "  {'n_neighbors': 2},\n",
       "  {'n_neighbors': 3},\n",
       "  {'n_neighbors': 4},\n",
       "  {'n_neighbors': 5},\n",
       "  {'n_neighbors': 6},\n",
       "  {'n_neighbors': 7},\n",
       "  {'n_neighbors': 8},\n",
       "  {'n_neighbors': 9},\n",
       "  {'n_neighbors': 10},\n",
       "  {'n_neighbors': 11},\n",
       "  {'n_neighbors': 12},\n",
       "  {'n_neighbors': 13},\n",
       "  {'n_neighbors': 14},\n",
       "  {'n_neighbors': 15},\n",
       "  {'n_neighbors': 16},\n",
       "  {'n_neighbors': 17},\n",
       "  {'n_neighbors': 18},\n",
       "  {'n_neighbors': 19},\n",
       "  {'n_neighbors': 20},\n",
       "  {'n_neighbors': 21},\n",
       "  {'n_neighbors': 22},\n",
       "  {'n_neighbors': 23},\n",
       "  {'n_neighbors': 24},\n",
       "  {'n_neighbors': 25},\n",
       "  {'n_neighbors': 26},\n",
       "  {'n_neighbors': 27},\n",
       "  {'n_neighbors': 28},\n",
       "  {'n_neighbors': 29},\n",
       "  {'n_neighbors': 30}],\n",
       " 'split0_test_score': array([0.73333333, 0.67777778, 0.73333333, 0.71111111, 0.77777778,\n",
       "        0.77777778, 0.74444444, 0.7       , 0.7       , 0.68888889,\n",
       "        0.73333333, 0.76666667, 0.74444444, 0.74444444, 0.73333333,\n",
       "        0.71111111, 0.71111111, 0.7       , 0.7       , 0.67777778,\n",
       "        0.71111111, 0.72222222, 0.73333333, 0.71111111, 0.71111111,\n",
       "        0.72222222, 0.73333333, 0.66666667, 0.67777778, 0.65555556]),\n",
       " 'split1_test_score': array([0.71111111, 0.71111111, 0.77777778, 0.73333333, 0.75555556,\n",
       "        0.75555556, 0.75555556, 0.72222222, 0.74444444, 0.73333333,\n",
       "        0.73333333, 0.72222222, 0.72222222, 0.74444444, 0.72222222,\n",
       "        0.72222222, 0.73333333, 0.75555556, 0.71111111, 0.71111111,\n",
       "        0.7       , 0.71111111, 0.7       , 0.7       , 0.68888889,\n",
       "        0.68888889, 0.67777778, 0.68888889, 0.71111111, 0.71111111]),\n",
       " 'split2_test_score': array([0.69662921, 0.70786517, 0.70786517, 0.71910112, 0.73033708,\n",
       "        0.71910112, 0.71910112, 0.70786517, 0.68539326, 0.68539326,\n",
       "        0.69662921, 0.68539326, 0.68539326, 0.68539326, 0.68539326,\n",
       "        0.6741573 , 0.66292135, 0.68539326, 0.68539326, 0.6741573 ,\n",
       "        0.69662921, 0.6741573 , 0.71910112, 0.69662921, 0.70786517,\n",
       "        0.70786517, 0.70786517, 0.70786517, 0.70786517, 0.69662921]),\n",
       " 'split3_test_score': array([0.78651685, 0.79775281, 0.83146067, 0.82022472, 0.83146067,\n",
       "        0.82022472, 0.82022472, 0.80898876, 0.82022472, 0.79775281,\n",
       "        0.78651685, 0.79775281, 0.82022472, 0.7752809 , 0.82022472,\n",
       "        0.79775281, 0.79775281, 0.7752809 , 0.78651685, 0.78651685,\n",
       "        0.78651685, 0.76404494, 0.7752809 , 0.78651685, 0.7752809 ,\n",
       "        0.76404494, 0.74157303, 0.75280899, 0.75280899, 0.73033708]),\n",
       " 'split4_test_score': array([0.78651685, 0.7752809 , 0.83146067, 0.79775281, 0.80898876,\n",
       "        0.7752809 , 0.76404494, 0.76404494, 0.7752809 , 0.75280899,\n",
       "        0.75280899, 0.74157303, 0.71910112, 0.74157303, 0.74157303,\n",
       "        0.73033708, 0.75280899, 0.75280899, 0.73033708, 0.71910112,\n",
       "        0.70786517, 0.70786517, 0.70786517, 0.70786517, 0.71910112,\n",
       "        0.71910112, 0.70786517, 0.73033708, 0.71910112, 0.69662921]),\n",
       " 'split5_test_score': array([0.76404494, 0.76404494, 0.74157303, 0.76404494, 0.79775281,\n",
       "        0.76404494, 0.7752809 , 0.78651685, 0.79775281, 0.76404494,\n",
       "        0.78651685, 0.76404494, 0.7752809 , 0.75280899, 0.76404494,\n",
       "        0.73033708, 0.75280899, 0.73033708, 0.71910112, 0.73033708,\n",
       "        0.73033708, 0.71910112, 0.74157303, 0.70786517, 0.71910112,\n",
       "        0.73033708, 0.74157303, 0.71910112, 0.75280899, 0.74157303]),\n",
       " 'split6_test_score': array([0.76404494, 0.79775281, 0.80898876, 0.80898876, 0.83146067,\n",
       "        0.80898876, 0.83146067, 0.79775281, 0.80898876, 0.78651685,\n",
       "        0.76404494, 0.75280899, 0.75280899, 0.71910112, 0.74157303,\n",
       "        0.74157303, 0.73033708, 0.71910112, 0.73033708, 0.70786517,\n",
       "        0.70786517, 0.70786517, 0.75280899, 0.73033708, 0.76404494,\n",
       "        0.74157303, 0.7752809 , 0.73033708, 0.76404494, 0.74157303]),\n",
       " 'split7_test_score': array([0.6741573 , 0.75280899, 0.75280899, 0.71910112, 0.7752809 ,\n",
       "        0.7752809 , 0.80898876, 0.76404494, 0.79775281, 0.78651685,\n",
       "        0.82022472, 0.79775281, 0.80898876, 0.7752809 , 0.75280899,\n",
       "        0.74157303, 0.73033708, 0.71910112, 0.71910112, 0.70786517,\n",
       "        0.71910112, 0.68539326, 0.69662921, 0.70786517, 0.73033708,\n",
       "        0.70786517, 0.74157303, 0.71910112, 0.73033708, 0.70786517]),\n",
       " 'split8_test_score': array([0.71910112, 0.78651685, 0.76404494, 0.79775281, 0.78651685,\n",
       "        0.79775281, 0.82022472, 0.79775281, 0.82022472, 0.82022472,\n",
       "        0.85393258, 0.85393258, 0.84269663, 0.83146067, 0.84269663,\n",
       "        0.83146067, 0.85393258, 0.80898876, 0.80898876, 0.78651685,\n",
       "        0.78651685, 0.7752809 , 0.79775281, 0.7752809 , 0.78651685,\n",
       "        0.78651685, 0.79775281, 0.7752809 , 0.7752809 , 0.80898876]),\n",
       " 'split9_test_score': array([0.77272727, 0.73863636, 0.72727273, 0.78409091, 0.79545455,\n",
       "        0.77272727, 0.78409091, 0.76136364, 0.77272727, 0.73863636,\n",
       "        0.79545455, 0.78409091, 0.79545455, 0.73863636, 0.73863636,\n",
       "        0.70454545, 0.72727273, 0.73863636, 0.77272727, 0.72727273,\n",
       "        0.77272727, 0.71590909, 0.71590909, 0.70454545, 0.72727273,\n",
       "        0.70454545, 0.70454545, 0.70454545, 0.69318182, 0.69318182]),\n",
       " 'mean_test_score': array([0.74074074, 0.75084175, 0.76767677, 0.7654321 , 0.78900112,\n",
       "        0.77665544, 0.78226712, 0.76094276, 0.77216611, 0.75533109,\n",
       "        0.77216611, 0.76655443, 0.76655443, 0.75084175, 0.75420875,\n",
       "        0.73849607, 0.74523008, 0.73849607, 0.7362514 , 0.72278339,\n",
       "        0.73176207, 0.71829405, 0.73400673, 0.72278339, 0.7328844 ,\n",
       "        0.72727273, 0.7328844 , 0.71941639, 0.72839506, 0.71829405]),\n",
       " 'std_test_score': array([0.03750152, 0.0392696 , 0.04150568, 0.03954266, 0.03001204,\n",
       "        0.02706037, 0.03541717, 0.03710185, 0.04565549, 0.04258895,\n",
       "        0.04372457, 0.04388386, 0.04781711, 0.03645524, 0.04362971,\n",
       "        0.04311648, 0.04849825, 0.03456226, 0.03785448, 0.03632529,\n",
       "        0.03410657, 0.02941601, 0.03156436, 0.03034457, 0.03019096,\n",
       "        0.028131  , 0.03366923, 0.02928017, 0.03046556, 0.03891134]),\n",
       " 'rank_test_score': array([16, 13,  6,  9,  1,  3,  2, 10,  4, 11,  4,  7,  7, 13, 12, 17, 15,\n",
       "        17, 19, 26, 23, 29, 20, 26, 21, 25, 21, 28, 24, 29])}"
      ]
     },
     "execution_count": 66,
     "metadata": {},
     "output_type": "execute_result"
    }
   ],
   "source": [
    "grid.cv_results_"
   ]
  },
  {
   "cell_type": "code",
   "execution_count": 101,
   "metadata": {},
   "outputs": [
    {
     "name": "stdout",
     "output_type": "stream",
     "text": [
      "[0.74074074 0.75084175 0.76767677 0.7654321  0.78900112 0.77665544\n",
      " 0.78226712 0.76094276 0.77216611 0.75533109 0.77216611 0.76655443\n",
      " 0.76655443 0.75084175 0.75420875 0.73849607 0.74523008 0.73849607\n",
      " 0.7362514  0.72278339 0.73176207 0.71829405 0.73400673 0.72278339\n",
      " 0.7328844  0.72727273 0.7328844  0.71941639 0.72839506 0.71829405]\n"
     ]
    }
   ],
   "source": [
    "grid_mean_score = grid.cv_results_[\"mean_test_score\"]\n",
    "print (grid_mean_score)"
   ]
  },
  {
   "cell_type": "code",
   "execution_count": 104,
   "metadata": {},
   "outputs": [
    {
     "data": {
      "text/plain": [
       "Text(0, 0.5, 'cross validated accuracy')"
      ]
     },
     "execution_count": 104,
     "metadata": {},
     "output_type": "execute_result"
    },
    {
     "data": {
      "image/png": "[encoded data removed]",
      "text/plain": [
       "<Figure size 432x288 with 1 Axes>"
      ]
     },
     "metadata": {
      "needs_background": "light"
     },
     "output_type": "display_data"
    }
   ],
   "source": [
    "import matplotlib.pyplot as plt\n",
    "%matplotlib inline\n",
    "plt.plot(k_range, grid_mean_score)\n",
    "plt.xlabel(\"value of k for knn\")\n",
    "plt.ylabel(\"cross validated accuracy\")"
   ]
  },
  {
   "cell_type": "code",
   "execution_count": 108,
   "metadata": {},
   "outputs": [
    {
     "name": "stdout",
     "output_type": "stream",
     "text": [
      "0.7890011223344556\n",
      "<bound method ClassifierMixin.score of KNeighborsClassifier(algorithm='auto', leaf_size=30, metric='minkowski',\n",
      "                     metric_params=None, n_jobs=None, n_neighbors=5, p=2,\n",
      "                     weights='uniform')>\n"
     ]
    }
   ],
   "source": [
    "print (grid.best_score_)\n",
    "print (grid.best_estimator_.score)"
   ]
  },
  {
   "cell_type": "code",
   "execution_count": null,
   "metadata": {},
   "outputs": [],
   "source": [
    "grid.predict(new_data)"
   ]
  }
 ],
 "metadata": {
  "kernelspec": {
   "display_name": "Python 3",
   "language": "python",
   "name": "python3"
  },
  "language_info": {
   "codemirror_mode": {
    "name": "ipython",
    "version": 3
   },
   "file_extension": ".py",
   "mimetype": "text/x-python",
   "name": "python",
   "nbconvert_exporter": "python",
   "pygments_lexer": "ipython3",
   "version": "3.7.4"
  }
 },
 "nbformat": 4,
 "nbformat_minor": 2
}
